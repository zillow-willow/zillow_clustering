{
 "cells": [
  {
   "cell_type": "markdown",
   "metadata": {},
   "source": [
    "# What is affecting the logerror?\n",
    "\n",
    "**Quick Notebook Reference**\n",
    "\n",
    "1. Project Plan\n",
    "2. Imports\n",
    "3. Acquire\n",
    "4. Prep\n",
    "5. Initial Exploration \n",
    "6. Exploratory with Clustering\n",
    "7. Models\n",
    "8. Model Evaluation\n",
    "9. Final Conclusions"
   ]
  },
  {
   "cell_type": "markdown",
   "metadata": {},
   "source": [
    "# Project Plan\n",
    "\n",
    "**Acquisition, Prep, and Initial Exploration**\n",
    "\n",
    "- Correct Data types (ie. turn zip code into string)\n",
    "- Handle Missing Values\n",
    "- Handle Outliers\n",
    "- Remove/repair erroneous data\n",
    "\n",
    "\n",
    "**Exploration with Clustering**\n",
    "\n",
    "By reducing the noise of the continuous variable, we can possibly see trends easier by turning this continuous variable into clusters and then comparing those clusters with respect to other variables through visualizations or tests\n",
    "\n",
    "Perform clustering with logerror as the only feature used in the clustering algorithm. Decide on a number of clusters to use, and store the cluster predictions back onto your data frame as cluster_target. Look at the centroids that were produced in this process. What do they tell you?\n",
    "\n",
    "Use the produced clusters to help you explore through visualization how logerror relates to other variables. (A common way to do this is to use color to indicate the cluster id, and the other variables can be your x-axis and y-axis.\n",
    "\n",
    "1. Cluster Independent Variables\n",
    "2. Test the Significance of Clusters\n",
    "\n",
    "\n",
    "**Modeling**\n",
    "- Feature Engineering\n",
    "- Train at least 3 different models\n",
    "- Evaluate best model on test data\n",
    "\n",
    "\n",
    "Goal: Improve our original estimate of the log error by using clustering methodologies."
   ]
  },
  {
   "cell_type": "markdown",
   "metadata": {},
   "source": [
    "# Imports"
   ]
  },
  {
   "cell_type": "code",
   "execution_count": null,
   "metadata": {},
   "outputs": [],
   "source": []
  }
 ],
 "metadata": {
  "kernelspec": {
   "display_name": "Python 3",
   "language": "python",
   "name": "python3"
  },
  "language_info": {
   "codemirror_mode": {
    "name": "ipython",
    "version": 3
   },
   "file_extension": ".py",
   "mimetype": "text/x-python",
   "name": "python",
   "nbconvert_exporter": "python",
   "pygments_lexer": "ipython3",
   "version": "3.7.4"
  }
 },
 "nbformat": 4,
 "nbformat_minor": 4
}
